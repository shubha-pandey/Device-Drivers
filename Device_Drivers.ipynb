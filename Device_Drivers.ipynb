{
 "cells": [
  {
   "cell_type": "markdown",
   "metadata": {},
   "source": [
    "# Device Drivers\n",
    "\n",
    "Topics Covered :\n",
    "\n",
    "- [Device Driver](#Device-Driver)\n",
    "- [Examples of Device Drivers](#Examples-of-Device-Drivers)\n",
    "- [Purpose of Device Drivers](#Purpose-of-Device-Drivers)\n",
    "- [Working of Device Driver](#Working-of-Device-Driver)\n",
    "- [Device Driver Software](#Device-Driver-Software)\n",
    "- [References](#References)"
   ]
  },
  {
   "cell_type": "markdown",
   "metadata": {},
   "source": [
    "## Device Driver\n",
    "\n",
    "Device Drivers are a set of programs that act as an intermediary between the operating system of the computer and the hardware components.   \n",
    "These programs are compact, but they enable a computer to interact with hardware and work with networks, storage and graphics.\n",
    "\n",
    "A device driver, or driver, is a special kind of software program (without a UI) that controls a specific hardware device attached to a computer. \n",
    "\n",
    "<img src = './Images/device_driver.png' />\n",
    "\n",
    "A driver is a software component that lets the operating system and a device communicate.   \n",
    "\n",
    "Device drivers are hardware dependent and specific to the OS. They  communicate with the computer hardware by computer subsystem or computer bus connected to the hardware. "
   ]
  },
  {
   "cell_type": "markdown",
   "metadata": {},
   "source": [
    "#### Examples of Device Drivers\n",
    "\n",
    "Devices that require drivers to function:\n",
    "\n",
    "- I/O devices (keyboards, mice, CD/DVD drives, printers, graphics cards, etc.)\n",
    "- Communication interfaces in embedded systems (UART, SPI)\n",
    "- Display devices (LCDs or LEDs)\n",
    "- Wireless modules\n",
    "- USB controllers\n",
    "- Real-Time Clocks\n",
    "- Biometric Sensors\n",
    "- Audio Codecs\n",
    "\n",
    "There are many different types of devices that can have their own respective drivers as well.    \n",
    "Some examples of these more specific drivers include the following:\n",
    "\n",
    "- Bluetooth drivers\n",
    "- Mouse drivers\n",
    "- Digital camera drivers\n",
    "- Graphics card drivers\n",
    "- Keyboard drivers\n",
    "- Motherboard drivers\n",
    "- Network card drivers\n",
    "- PC chipset drivers\n",
    "- Printer drivers\n",
    "- Sound card drivers\n",
    "- Storage controller drivers\n",
    "- USB device drivers\n",
    "- Video card drivers"
   ]
  },
  {
   "cell_type": "raw",
   "metadata": {
    "vscode": {
     "languageId": "raw"
    }
   },
   "source": [
    "# produce a list of all device drivers installed on the host computer\n",
    "\n",
    "\n",
    "--> for Windows\n",
    "\n",
    "cd ~\n",
    "deriverquery\n",
    "\n",
    "--> for Linux and macOS\n",
    "\n",
    "lsmod"
   ]
  },
  {
   "cell_type": "markdown",
   "metadata": {},
   "source": [
    "## Purpose of Device Drivers\n",
    "\n",
    "Device drivers are necessary to enable a computer to interface and interact with specific devices. They define the messages and mechanisms whereby the computer -- the OS and applications -- can access the device or make requests for the device to fulfill. They also handle device responses and messages for delivery to the computer.\n",
    "\n",
    "Device drivers essentially act as a translator for hardware devices and the OS and applications connected to it – it translates the information and commands from the OS to the piece of hardware.    \n",
    "They are what enables printers, keyboards, or mice to operate and work with modern PCs.\n",
    "\n",
    "They are essential for a computer to work properly because, without a device driver, the particular hardware fails to work accordingly, which means it fails in doing the function/action it was created to do."
   ]
  },
  {
   "cell_type": "markdown",
   "metadata": {},
   "source": [
    "## Working of Device Driver\n",
    "\n",
    "Device Drivers depend upon the Operating System’s instruction to access the device and perform any particular action.    \n",
    "After the action, they also show their reactions by delivering output or status/message from the hardware device to the Operating system.\n",
    "\n",
    "Device drivers generally run at a high level of privilege within the OS runtime environment.    \n",
    "Some device drivers are linked directly to the OS kernel -- a core part of the OS that manages system resources and hardware. These device drivers enable more efficient communication and control over hardware devices.\n",
    "\n",
    "- A portion of an OS -- such as Windows, Linux or macOS -- remains memory resident. This means that a part of the OS stays loaded in the computer's RAM while the system is running and handles execution for all other code, including device drivers.    \n",
    "- Device drivers relay requests for device access and actions from the OS and its active applications to their respective hardware devices.    \n",
    "- They also deliver outputs or status messages from the hardware devices to the OS and, thus, to applications.\n",
    "\n",
    "<img src = './Images/working_of_device_driver.png' />\n",
    "\n",
    "Most software programs don't need to know how to work directly with hardware because of the work device drivers do. Instead, the program and driver only need to know how to interface with each other.\n",
    "\n",
    "For example, \n",
    "\n",
    "- An app needs to read data from a device so it calls a function implemented by the operating system. \n",
    "- The operating system then calls a function implemented by the driver. \n",
    "- The driver, usually developed by the device's manufacturer, knows how to communicate with the device hardware to get the data. \n",
    "- Once the driver gets the data, it gives it back to the operating system, which then gives it back to the app.\n",
    "\n",
    "\n",
    "Not all drivers communicate directly with a device.    \n",
    "Often, several drivers layered in a driver stack take part in an I/O request. The conventional way to visualize the stack is with the first participant at the top and the last participant at the bottom.    \n",
    "Some drivers in the stack change the request from one format to another. These drivers don't communicate directly with the device. Instead, they change the request and pass it to drivers that are lower in the stack.\n",
    "\n",
    "\n",
    "<img src = './Images/driver_stack.png' style=\"margin-left: 200px\" />\n",
    "\n",
    "**Function driver:** The driver that communicates directly with the device is called the function driver.\n",
    "\n",
    "**Filter driver:** Drivers that do auxiliary processing are called filter drivers\n",
    "\n",
    "Similarly to general-purpose computers, **embedded systems** also run on hardware that requires device drivers to function properly.    \n",
    "Can distinguish two types of such hardware: **microcontroller peripherals** and **external devices**.    \n",
    "However, due to limited space (both physical and in terms of digital memory), the drivers for embedded systems must be strongly optimized. Otherwise, they won’t fit into the available space, increase energy consumption significantly, or affect the whole system’s performance."
   ]
  },
  {
   "cell_type": "markdown",
   "metadata": {},
   "source": [
    "## Device Driver Software\n",
    "\n",
    "Device Drivers, in the early days of programming, were often written using `assembly language`, a low-level language that can access hardware and central processing unit instructions immediately and directly.    \n",
    "Today, most programmers who write device drivers work either in the `C` or `C++` programming languages because they offer excellent access to low-level instructions along with more complex program and data structures.\n",
    "\n",
    "Testing device drivers must incorporate security as well as operational issues. Because such software runs at high levels of privilege, it could lead to system compromise or vulnerabilities on the security side, or outright failure due to crashing or freezing and performance problems on the operational side."
   ]
  },
  {
   "cell_type": "markdown",
   "metadata": {},
   "source": [
    "# References \n",
    "\n",
    "* [GeekforGeeks](https://www.geeksforgeeks.org/device-driver-and-its-purpose/)\n",
    "* [TechTarget](https://www.techtarget.com/searchenterprisedesktop/definition/device-driver)\n",
    "* [Spiceworks](https://www.spiceworks.com/tech/devops/articles/what-is-device-driver/)\n",
    "* [Learn Microsoft](https://learn.microsoft.com/en-us/windows-hardware/drivers/gettingstarted/what-is-a-driver-)\n",
    "* [Conclusive Engineering](https://conclusive.tech/glossary/what-is-a-device-driver/)"
   ]
  }
 ],
 "metadata": {
  "kernelspec": {
   "display_name": "Python 3",
   "language": "python",
   "name": "python3"
  },
  "language_info": {
   "codemirror_mode": {
    "name": "ipython",
    "version": 3
   },
   "file_extension": ".py",
   "mimetype": "text/x-python",
   "name": "python",
   "nbconvert_exporter": "python",
   "pygments_lexer": "ipython3",
   "version": "3.11.9"
  }
 },
 "nbformat": 4,
 "nbformat_minor": 2
}
